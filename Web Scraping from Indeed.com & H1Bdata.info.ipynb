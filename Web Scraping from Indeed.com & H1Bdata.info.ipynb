{
 "cells": [
  {
   "cell_type": "markdown",
   "metadata": {},
   "source": [
    "\n",
    "\n",
    "***\n",
    "### Web Scraping from Indeed.com & H1Bdata.info\n",
    "*This is a script to automate job searching process for people need sponsorships. It will save job seekers plenty of time by filtering for job postings that require certain skills and filtering for corresponding employers having historical sponsorship information.*\n",
    "<div style=\"text-align: right\"><font color='pink'>Helena Li</font></div>\n",
    "<div style=\"text-align: right\"><font color='pink'>created on 3/15/2021</font></div>\n",
    "\n",
    "***"
   ]
  },
  {
   "cell_type": "markdown",
   "metadata": {},
   "source": [
    "#### import packages"
   ]
  },
  {
   "cell_type": "code",
   "execution_count": 1,
   "metadata": {},
   "outputs": [],
   "source": [
    "import requests\n",
    "from bs4 import BeautifulSoup\n",
    "import pandas as pd\n",
    "import re\n",
    "import random\n",
    "import time\n",
    "from colorama import Fore\n",
    "from tqdm import tqdm"
   ]
  },
  {
   "cell_type": "markdown",
   "metadata": {},
   "source": [
    "#### input `location`, `position`, `time posted till today`, `number of pages`, `key words` for web scraping"
   ]
  },
  {
   "cell_type": "code",
   "execution_count": 2,
   "metadata": {},
   "outputs": [],
   "source": [
    "## input customized values\n",
    "location = 'United States'\n",
    "position = 'Data Analyst'\n",
    "time_post = '7'\n",
    "## try to limit the page_num to 4 or less, to prevent from being blocked\n",
    "page_num = 4\n",
    "\n",
    "## format input values\n",
    "location = location.capitalize()\n",
    "position = position.lower()\n",
    "location_link = location.replace(' ','+')\n",
    "position_link = position.replace(' ','+')\n",
    "\n",
    "## input customized values\n",
    "## key_word list is for both the key words you are looking for in the job description, and key words serve as a red flag (require U.S. citizenship etc.)\n",
    "key_word = ['SQL','Python','Tableau','Power BI', 'Looker', 'Analytics','Machine Learning','Statistics','Excel','A/B Test','hypothesis test','Model','U.S. Citizenship','contract']"
   ]
  },
  {
   "cell_type": "markdown",
   "metadata": {},
   "source": [
    "#### scrape information from indeed.com"
   ]
  },
  {
   "cell_type": "code",
   "execution_count": 3,
   "metadata": {},
   "outputs": [
    {
     "name": "stderr",
     "output_type": "stream",
     "text": [
      "  0%|                                                                                            | 0/4 [00:00<?, ?it/s]\n",
      "  0%|                                                                                           | 0/35 [00:00<?, ?it/s]\u001b[A\n",
      "  3%|██▎                                                                                | 1/35 [00:07<04:27,  7.87s/it]\u001b[A\n",
      " 11%|█████████▍                                                                         | 4/35 [00:11<03:02,  5.90s/it]\u001b[A\n",
      " 14%|███████████▊                                                                       | 5/35 [00:20<03:22,  6.75s/it]\u001b[A\n",
      " 23%|██████████████████▉                                                                | 8/35 [00:24<02:18,  5.13s/it]\u001b[A\n",
      " 31%|█████████████████████████▊                                                        | 11/35 [00:29<01:38,  4.11s/it]\u001b[A\n",
      " 40%|████████████████████████████████▊                                                 | 14/35 [00:35<01:13,  3.49s/it]\u001b[A\n",
      " 43%|███████████████████████████████████▏                                              | 15/35 [00:39<01:09,  3.46s/it]\u001b[A\n",
      " 51%|██████████████████████████████████████████▏                                       | 18/35 [00:44<00:49,  2.93s/it]\u001b[A\n",
      " 60%|█████████████████████████████████████████████████▏                                | 21/35 [00:46<00:31,  2.26s/it]\u001b[A\n",
      " 69%|████████████████████████████████████████████████████████▏                         | 24/35 [00:49<00:20,  1.88s/it]\u001b[A\n",
      " 71%|██████████████████████████████████████████████████████████▌                       | 25/35 [00:59<00:43,  4.33s/it]\u001b[A\n",
      " 80%|█████████████████████████████████████████████████████████████████▌                | 28/35 [01:02<00:23,  3.33s/it]\u001b[A\n",
      " 83%|███████████████████████████████████████████████████████████████████▉              | 29/35 [01:05<00:19,  3.20s/it]\u001b[A\n",
      " 91%|██████████████████████████████████████████████████████████████████████████▉       | 32/35 [01:08<00:07,  2.60s/it]\u001b[A\n",
      "100%|██████████████████████████████████████████████████████████████████████████████████| 35/35 [01:17<00:00,  2.22s/it]\u001b[A\n",
      " 25%|████████████████████▊                                                              | 1/4 [02:06<06:19, 126.58s/it]\n",
      "  0%|                                                                                           | 0/35 [00:00<?, ?it/s]\u001b[A\n",
      "  3%|██▎                                                                                | 1/35 [00:04<02:19,  4.11s/it]\u001b[A\n",
      "  6%|████▋                                                                              | 2/35 [00:10<02:36,  4.73s/it]\u001b[A\n",
      " 14%|███████████▊                                                                       | 5/35 [00:15<01:53,  3.80s/it]\u001b[A\n",
      " 23%|██████████████████▉                                                                | 8/35 [00:22<01:31,  3.41s/it]\u001b[A\n",
      " 31%|█████████████████████████▊                                                        | 11/35 [00:32<01:20,  3.34s/it]\u001b[A\n",
      " 40%|████████████████████████████████▊                                                 | 14/35 [00:39<01:05,  3.11s/it]\u001b[A\n",
      " 49%|███████████████████████████████████████▊                                          | 17/35 [00:43<00:45,  2.52s/it]\u001b[A\n",
      " 57%|██████████████████████████████████████████████▊                                   | 20/35 [00:48<00:33,  2.23s/it]\u001b[A\n",
      " 60%|█████████████████████████████████████████████████▏                                | 21/35 [00:53<00:43,  3.11s/it]\u001b[A\n",
      " 63%|███████████████████████████████████████████████████▌                              | 22/35 [01:01<01:01,  4.74s/it]\u001b[A\n",
      " 71%|██████████████████████████████████████████████████████████▌                       | 25/35 [01:06<00:38,  3.80s/it]\u001b[A\n",
      " 80%|█████████████████████████████████████████████████████████████████▌                | 28/35 [01:09<00:20,  2.97s/it]\u001b[A\n",
      " 83%|███████████████████████████████████████████████████████████████████▉              | 29/35 [01:20<00:31,  5.31s/it]\u001b[A\n",
      " 91%|██████████████████████████████████████████████████████████████████████████▉       | 32/35 [01:26<00:13,  4.37s/it]\u001b[A\n",
      "100%|██████████████████████████████████████████████████████████████████████████████████| 35/35 [01:31<00:00,  2.60s/it]\u001b[A\n",
      " 50%|█████████████████████████████████████████▌                                         | 2/4 [04:02<04:06, 123.50s/it]\n",
      "  0%|                                                                                           | 0/33 [00:00<?, ?it/s]\u001b[A\n",
      "  3%|██▌                                                                                | 1/33 [00:05<02:51,  5.36s/it]\u001b[A\n",
      "  6%|█████                                                                              | 2/33 [00:13<03:11,  6.19s/it]\u001b[A\n",
      " 15%|████████████▌                                                                      | 5/33 [00:18<02:15,  4.82s/it]\u001b[A\n",
      " 24%|████████████████████                                                               | 8/33 [00:23<01:36,  3.86s/it]\u001b[A\n",
      " 33%|███████████████████████████▎                                                      | 11/33 [00:26<01:05,  2.99s/it]\u001b[A\n",
      " 42%|██████████████████████████████████▊                                               | 14/33 [00:36<00:58,  3.09s/it]\u001b[A\n",
      " 52%|██████████████████████████████████████████▏                                       | 17/33 [00:45<00:50,  3.14s/it]\u001b[A\n",
      " 61%|█████████████████████████████████████████████████▋                                | 20/33 [00:54<00:39,  3.04s/it]\u001b[A\n",
      " 70%|█████████████████████████████████████████████████████████▏                        | 23/33 [01:05<00:32,  3.25s/it]\u001b[A\n",
      " 79%|████████████████████████████████████████████████████████████████▌                 | 26/33 [01:13<00:21,  3.10s/it]\u001b[A\n",
      " 82%|███████████████████████████████████████████████████████████████████               | 27/33 [01:24<00:32,  5.42s/it]\u001b[A\n",
      " 85%|█████████████████████████████████████████████████████████████████████▌            | 28/33 [01:28<00:25,  5.08s/it]\u001b[A\n",
      " 88%|████████████████████████████████████████████████████████████████████████          | 29/33 [01:40<00:27,  6.96s/it]\u001b[A\n",
      " 97%|███████████████████████████████████████████████████████████████████████████████▌  | 32/33 [01:43<00:05,  5.15s/it]\u001b[A\n",
      "100%|██████████████████████████████████████████████████████████████████████████████████| 33/33 [01:51<00:00,  3.37s/it]\u001b[A\n",
      " 75%|██████████████████████████████████████████████████████████████▎                    | 3/4 [06:44<02:15, 135.03s/it]\n",
      "  0%|                                                                                           | 0/33 [00:00<?, ?it/s]\u001b[A\n",
      "  3%|██▌                                                                                | 1/33 [00:05<03:02,  5.70s/it]\u001b[A\n",
      "  6%|█████                                                                              | 2/33 [00:13<03:18,  6.40s/it]\u001b[A\n",
      " 15%|████████████▌                                                                      | 5/33 [00:19<02:20,  5.03s/it]\u001b[A\n",
      " 24%|████████████████████                                                               | 8/33 [00:29<01:53,  4.52s/it]\u001b[A\n",
      " 33%|███████████████████████████▎                                                      | 11/33 [00:41<01:37,  4.43s/it]\u001b[A\n",
      " 42%|██████████████████████████████████▊                                               | 14/33 [00:50<01:14,  3.91s/it]\u001b[A\n",
      " 52%|██████████████████████████████████████████▏                                       | 17/33 [01:00<01:00,  3.76s/it]\u001b[A\n",
      " 61%|█████████████████████████████████████████████████▋                                | 20/33 [01:11<00:48,  3.74s/it]\u001b[A\n",
      " 70%|█████████████████████████████████████████████████████████▏                        | 23/33 [01:21<00:36,  3.64s/it]\u001b[A\n",
      " 73%|███████████████████████████████████████████████████████████▋                      | 24/33 [01:28<00:42,  4.76s/it]\u001b[A\n",
      " 82%|███████████████████████████████████████████████████████████████████               | 27/33 [01:39<00:26,  4.43s/it]\u001b[A\n",
      " 91%|██████████████████████████████████████████████████████████████████████████▌       | 30/33 [01:46<00:11,  3.74s/it]\u001b[A\n",
      " 94%|█████████████████████████████████████████████████████████████████████████████     | 31/33 [01:56<00:11,  5.79s/it]\u001b[A\n"
     ]
    },
    {
     "name": "stderr",
     "output_type": "stream",
     "text": [
      " 97%|███████████████████████████████████████████████████████████████████████████████▌  | 32/33 [02:06<00:06,  6.83s/it]\u001b[A\n",
      "100%|██████████████████████████████████████████████████████████████████████████████████| 33/33 [02:08<00:00,  3.88s/it]\u001b[A\n",
      "100%|███████████████████████████████████████████████████████████████████████████████████| 4/4 [09:20<00:00, 140.16s/it]\n"
     ]
    }
   ],
   "source": [
    "link = []\n",
    "title = []\n",
    "skill = []\n",
    "company = []\n",
    "\n",
    "## Adding tqdm() function to see processing bar\n",
    "for i in tqdm(range(0,page_num)):\n",
    "    start_num = i*10\n",
    "    result = requests.get('https://www.indeed.com/jobs?q='+position_link+'&l='+location_link+'&fromage='+time_post+'start='+str(start_num))\n",
    "    src = result.content\n",
    "    soup = BeautifulSoup(src,'html.parser')\n",
    "    td = soup.find_all(\"td\",{\"id\":\"resultsCol\"})\n",
    "    html = td[0].find_all(\"a\",{\"target\":\"_blank\"})\n",
    "\n",
    "    for h in tqdm(html):\n",
    "        if re.findall('jobtitle turnstileLink',str(h)):\n",
    "            new_link = 'https://www.indeed.com' + h.get('href')\n",
    "            link.append(new_link)\n",
    "            title.append(h.get('title'))\n",
    "            requests.get(new_link)\n",
    "            web = requests.get(new_link)\n",
    "            src_web = web.content\n",
    "            soup_web = BeautifulSoup(src_web,'html.parser')\n",
    "            div = soup_web.find_all(\"div\",{\"class\":\"icl-u-lg-mr--sm icl-u-xs-mr--xs\"})\n",
    "            company.append(re.findall(r'>([A-Za-z0-9 -]+).*</div>', str(div[0])))\n",
    "            text = soup_web.find_all(\"div\",{\"id\":\"jobDescriptionText\"})\n",
    "            lst = []\n",
    "            \n",
    "            for k in key_word:\n",
    "                if re.search(k, str(text[0]), re.IGNORECASE):\n",
    "                    lst.append(k)\n",
    "            skill.append(lst)\n",
    "            ## can adjust the sleep time based on your needs, but this step is essential to prevent you from being blocked\n",
    "            sleep_time = random.randint(1,10)\n",
    "            time.sleep(sleep_time)\n",
    "    ## can adjust the sleep time based on your needs, but this step is essential to prevent you from being blocked        \n",
    "    sleep_time = random.randint(20,60)\n",
    "    time.sleep(sleep_time)"
   ]
  },
  {
   "cell_type": "markdown",
   "metadata": {},
   "source": [
    "#### data cleaning and removing records with drop words"
   ]
  },
  {
   "cell_type": "code",
   "execution_count": 4,
   "metadata": {},
   "outputs": [],
   "source": [
    "DB = pd.DataFrame(\n",
    "    {'Title': title,\n",
    "     'Company': company,\n",
    "     'Skill': skill,\n",
    "     'Indeed.com Link': link})\n",
    "DB['Skill'] = DB['Skill'].apply(lambda x: str(x)[2:-2])\n",
    "DB['Skill'] = DB['Skill'].apply(lambda x: re.sub(r\"'\",'',x))\n",
    "DB['Company'] = DB['Company'].apply(lambda x: str(x)[2:-2])\n",
    "\n",
    "len1 = len(DB)\n",
    "\n",
    "## drop records requiring key words listed below\n",
    "lst_drop = ['U.S. Citizenship','contract']\n",
    "for l in lst_drop:\n",
    "    DB = DB[DB['Skill'].map(lambda x: l not in str(x))]\n",
    "## drop rows with no match skills\n",
    "DB = DB[DB['Skill'].map(lambda x: len(x) > 0)]\n",
    "## drop records only match \"Excel\" skill\n",
    "DB = DB[DB['Skill'].map(lambda x: str(x) != 'Excel')]\n",
    "\n",
    "company_unique = list(set(DB['Company']))\n",
    "\n",
    "company_reformat = []\n",
    "for c in company_unique:\n",
    "    if len(c.split()) > 1:\n",
    "        company_reformat.append(c.replace(' ','+'))\n",
    "    else:\n",
    "        company_reformat.append(c)\n",
    "        \n",
    "company_link = []\n",
    "for c in company_reformat:\n",
    "    company_link.append('https://h1bdata.info/index.php?em='+c+'&job=&city=&year=All+Years')"
   ]
  },
  {
   "cell_type": "markdown",
   "metadata": {},
   "source": [
    "#### scrape sponsorship records information from H1Bdata.info"
   ]
  },
  {
   "cell_type": "code",
   "execution_count": 5,
   "metadata": {},
   "outputs": [],
   "source": [
    "record = []\n",
    "for l in company_link:\n",
    "    h1b_result = requests.get(l)\n",
    "    h1b_src = h1b_result.content\n",
    "    h1b_soup = BeautifulSoup(h1b_src,'html.parser')\n",
    "    tbody = h1b_soup.find_all('tbody')\n",
    "    if len(str(tbody)) < 20:\n",
    "        record.append(0)\n",
    "    else:\n",
    "        number = re.findall(r'<tr>', str(tbody))\n",
    "        record.append(len(number))    "
   ]
  },
  {
   "cell_type": "markdown",
   "metadata": {},
   "source": [
    "#### data cleaning and dropping records with no historical sponsorship records"
   ]
  },
  {
   "cell_type": "code",
   "execution_count": 16,
   "metadata": {},
   "outputs": [
    {
     "name": "stdout",
     "output_type": "stream",
     "text": [
      "\u001b[33m# of records reduced - \u001b[32m60 → 4（difference : 56)\n"
     ]
    }
   ],
   "source": [
    "H1B = pd.DataFrame(\n",
    "    {'Company': company_unique,\n",
    "     '# of Sponsorship Record(s) from the Employer': record,\n",
    "     'h1bdata.info Link': company_link})\n",
    "\n",
    "## join two datasets\n",
    "df = pd.merge(DB, H1B, on='Company', how='left')\n",
    "## drop records with no historical sponsorship information\n",
    "df = df[df['# of Sponsorship Record(s) from the Employer'].map(lambda x: x != 0)]\n",
    "df.drop_duplicates(inplace = True)\n",
    "len2 = len(df)\n",
    "\n",
    "print(Fore.YELLOW + '# of records reduced - ' + Fore.GREEN + str(len1) + ' → ' + str(len2) + '（difference : ' + str(len1 - len2) + ')')"
   ]
  },
  {
   "cell_type": "markdown",
   "metadata": {},
   "source": [
    "#### final dataset"
   ]
  },
  {
   "cell_type": "code",
   "execution_count": 17,
   "metadata": {},
   "outputs": [
    {
     "data": {
      "text/html": [
       "<div>\n",
       "<style scoped>\n",
       "    .dataframe tbody tr th:only-of-type {\n",
       "        vertical-align: middle;\n",
       "    }\n",
       "\n",
       "    .dataframe tbody tr th {\n",
       "        vertical-align: top;\n",
       "    }\n",
       "\n",
       "    .dataframe thead th {\n",
       "        text-align: right;\n",
       "    }\n",
       "</style>\n",
       "<table border=\"1\" class=\"dataframe\">\n",
       "  <thead>\n",
       "    <tr style=\"text-align: right;\">\n",
       "      <th></th>\n",
       "      <th>Title</th>\n",
       "      <th>Company</th>\n",
       "      <th>Skill</th>\n",
       "      <th>Indeed.com Link</th>\n",
       "      <th># of Sponsorship Record(s) from the Employer</th>\n",
       "      <th>h1bdata.info Link</th>\n",
       "    </tr>\n",
       "  </thead>\n",
       "  <tbody>\n",
       "    <tr>\n",
       "      <th>0</th>\n",
       "      <td>Data Analyst</td>\n",
       "      <td>Midland Credit Management</td>\n",
       "      <td>SQL, Power BI, Excel</td>\n",
       "      <td>https://www.indeed.com/pagead/clk?mo=r&amp;ad=-6NY...</td>\n",
       "      <td>91</td>\n",
       "      <td>https://h1bdata.info/index.php?em=Midland+Cred...</td>\n",
       "    </tr>\n",
       "    <tr>\n",
       "      <th>2</th>\n",
       "      <td>Data Analyst</td>\n",
       "      <td>Sagewell</td>\n",
       "      <td>Analytics, Excel</td>\n",
       "      <td>https://www.indeed.com/company/Sagewell,-Inc./...</td>\n",
       "      <td>1</td>\n",
       "      <td>https://h1bdata.info/index.php?em=Sagewell&amp;job...</td>\n",
       "    </tr>\n",
       "    <tr>\n",
       "      <th>4</th>\n",
       "      <td>Operations Data Analyst</td>\n",
       "      <td>ResMed</td>\n",
       "      <td>SQL, Python, Tableau, Analytics, Statistics, E...</td>\n",
       "      <td>https://www.indeed.com/rc/clk?jk=bd3de1aff801a...</td>\n",
       "      <td>127</td>\n",
       "      <td>https://h1bdata.info/index.php?em=ResMed&amp;job=&amp;...</td>\n",
       "    </tr>\n",
       "    <tr>\n",
       "      <th>14</th>\n",
       "      <td>Data Analyst</td>\n",
       "      <td>Goby Inc</td>\n",
       "      <td>Model</td>\n",
       "      <td>https://www.indeed.com/rc/clk?jk=480dc36616e99...</td>\n",
       "      <td>12</td>\n",
       "      <td>https://h1bdata.info/index.php?em=Goby+Inc&amp;job...</td>\n",
       "    </tr>\n",
       "  </tbody>\n",
       "</table>\n",
       "</div>"
      ],
      "text/plain": [
       "                      Title                    Company  \\\n",
       "0              Data Analyst  Midland Credit Management   \n",
       "2              Data Analyst                   Sagewell   \n",
       "4   Operations Data Analyst                     ResMed   \n",
       "14             Data Analyst                   Goby Inc   \n",
       "\n",
       "                                                Skill  \\\n",
       "0                                SQL, Power BI, Excel   \n",
       "2                                    Analytics, Excel   \n",
       "4   SQL, Python, Tableau, Analytics, Statistics, E...   \n",
       "14                                              Model   \n",
       "\n",
       "                                      Indeed.com Link  \\\n",
       "0   https://www.indeed.com/pagead/clk?mo=r&ad=-6NY...   \n",
       "2   https://www.indeed.com/company/Sagewell,-Inc./...   \n",
       "4   https://www.indeed.com/rc/clk?jk=bd3de1aff801a...   \n",
       "14  https://www.indeed.com/rc/clk?jk=480dc36616e99...   \n",
       "\n",
       "    # of Sponsorship Record(s) from the Employer  \\\n",
       "0                                             91   \n",
       "2                                              1   \n",
       "4                                            127   \n",
       "14                                            12   \n",
       "\n",
       "                                    h1bdata.info Link  \n",
       "0   https://h1bdata.info/index.php?em=Midland+Cred...  \n",
       "2   https://h1bdata.info/index.php?em=Sagewell&job...  \n",
       "4   https://h1bdata.info/index.php?em=ResMed&job=&...  \n",
       "14  https://h1bdata.info/index.php?em=Goby+Inc&job...  "
      ]
     },
     "execution_count": 17,
     "metadata": {},
     "output_type": "execute_result"
    }
   ],
   "source": [
    "df"
   ]
  },
  {
   "cell_type": "markdown",
   "metadata": {},
   "source": [
    "#### save data into csv file"
   ]
  },
  {
   "cell_type": "code",
   "execution_count": 18,
   "metadata": {},
   "outputs": [],
   "source": [
    "df.to_csv('Job Info from Indeed.csv', index = False)"
   ]
  }
 ],
 "metadata": {
  "kernelspec": {
   "display_name": "Python 3",
   "language": "python",
   "name": "python3"
  },
  "language_info": {
   "codemirror_mode": {
    "name": "ipython",
    "version": 3
   },
   "file_extension": ".py",
   "mimetype": "text/x-python",
   "name": "python",
   "nbconvert_exporter": "python",
   "pygments_lexer": "ipython3",
   "version": "3.7.3"
  }
 },
 "nbformat": 4,
 "nbformat_minor": 2
}
